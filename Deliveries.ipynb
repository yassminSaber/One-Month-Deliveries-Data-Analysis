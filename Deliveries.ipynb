{
 "cells": [
  {
   "cell_type": "markdown",
   "metadata": {},
   "source": [
    "### some imports"
   ]
  },
  {
   "cell_type": "code",
   "execution_count": 90,
   "metadata": {},
   "outputs": [],
   "source": [
    "import pandas as pd \n",
    "from datetime import datetime, time as datetime_time, timedelta\n",
    "import matplotlib.pyplot as plt"
   ]
  },
  {
   "cell_type": "markdown",
   "metadata": {},
   "source": [
    "### Reading the data"
   ]
  },
  {
   "cell_type": "code",
   "execution_count": 91,
   "metadata": {},
   "outputs": [
    {
     "name": "stdout",
     "output_type": "stream",
     "text": [
      "data shape:  (18078, 13)\n"
     ]
    },
    {
     "data": {
      "text/html": [
       "<div>\n",
       "<style scoped>\n",
       "    .dataframe tbody tr th:only-of-type {\n",
       "        vertical-align: middle;\n",
       "    }\n",
       "\n",
       "    .dataframe tbody tr th {\n",
       "        vertical-align: top;\n",
       "    }\n",
       "\n",
       "    .dataframe thead th {\n",
       "        text-align: right;\n",
       "    }\n",
       "</style>\n",
       "<table border=\"1\" class=\"dataframe\">\n",
       "  <thead>\n",
       "    <tr style=\"text-align: right;\">\n",
       "      <th></th>\n",
       "      <th>Customer placed order datetime</th>\n",
       "      <th>Placed order with restaurant datetime</th>\n",
       "      <th>Driver at restaurant datetime</th>\n",
       "      <th>Delivered to consumer datetime</th>\n",
       "      <th>Driver ID</th>\n",
       "      <th>Restaurant ID</th>\n",
       "      <th>Consumer ID</th>\n",
       "      <th>Delivery Region</th>\n",
       "      <th>Is ASAP</th>\n",
       "      <th>Order total</th>\n",
       "      <th>Amount of discount</th>\n",
       "      <th>Amount of tip</th>\n",
       "      <th>Refunded amount</th>\n",
       "    </tr>\n",
       "  </thead>\n",
       "  <tbody>\n",
       "    <tr>\n",
       "      <th>0</th>\n",
       "      <td>01 02:52:12</td>\n",
       "      <td>01 03:00:25</td>\n",
       "      <td>01 03:08:09</td>\n",
       "      <td>01 03:35:20</td>\n",
       "      <td>279</td>\n",
       "      <td>50</td>\n",
       "      <td>6738</td>\n",
       "      <td>Giza</td>\n",
       "      <td>True</td>\n",
       "      <td>16.33</td>\n",
       "      <td>0.0</td>\n",
       "      <td>0.82</td>\n",
       "      <td>0.0</td>\n",
       "    </tr>\n",
       "    <tr>\n",
       "      <th>1</th>\n",
       "      <td>13 15:58:57</td>\n",
       "      <td>13 17:56:45</td>\n",
       "      <td>13 18:24:39</td>\n",
       "      <td>13 18:57:01</td>\n",
       "      <td>303</td>\n",
       "      <td>96</td>\n",
       "      <td>64746</td>\n",
       "      <td>Nasr City</td>\n",
       "      <td>True</td>\n",
       "      <td>76.14</td>\n",
       "      <td>0.0</td>\n",
       "      <td>6.45</td>\n",
       "      <td>0.0</td>\n",
       "    </tr>\n",
       "    <tr>\n",
       "      <th>2</th>\n",
       "      <td>17 19:02:37</td>\n",
       "      <td>17 19:12:51</td>\n",
       "      <td>17 19:19:59</td>\n",
       "      <td>17 19:31:09</td>\n",
       "      <td>212</td>\n",
       "      <td>190</td>\n",
       "      <td>12484</td>\n",
       "      <td>Maadi</td>\n",
       "      <td>True</td>\n",
       "      <td>16.77</td>\n",
       "      <td>6.0</td>\n",
       "      <td>2.52</td>\n",
       "      <td>0.0</td>\n",
       "    </tr>\n",
       "    <tr>\n",
       "      <th>3</th>\n",
       "      <td>12 04:01:57</td>\n",
       "      <td>12 04:08:18</td>\n",
       "      <td>12 04:13:02</td>\n",
       "      <td>12 04:37:57</td>\n",
       "      <td>352</td>\n",
       "      <td>194</td>\n",
       "      <td>13920</td>\n",
       "      <td>Maadi</td>\n",
       "      <td>True</td>\n",
       "      <td>25.03</td>\n",
       "      <td>0.0</td>\n",
       "      <td>5.00</td>\n",
       "      <td>0.0</td>\n",
       "    </tr>\n",
       "    <tr>\n",
       "      <th>4</th>\n",
       "      <td>08 23:46:38</td>\n",
       "      <td>08 23:49:32</td>\n",
       "      <td>08 23:54:29</td>\n",
       "      <td>09 00:37:15</td>\n",
       "      <td>313</td>\n",
       "      <td>9</td>\n",
       "      <td>7037</td>\n",
       "      <td>Nasr City</td>\n",
       "      <td>True</td>\n",
       "      <td>51.57</td>\n",
       "      <td>0.0</td>\n",
       "      <td>5.16</td>\n",
       "      <td>0.0</td>\n",
       "    </tr>\n",
       "  </tbody>\n",
       "</table>\n",
       "</div>"
      ],
      "text/plain": [
       "  Customer placed order datetime Placed order with restaurant datetime  \\\n",
       "0                    01 02:52:12                           01 03:00:25   \n",
       "1                    13 15:58:57                           13 17:56:45   \n",
       "2                    17 19:02:37                           17 19:12:51   \n",
       "3                    12 04:01:57                           12 04:08:18   \n",
       "4                    08 23:46:38                           08 23:49:32   \n",
       "\n",
       "  Driver at restaurant datetime Delivered to consumer datetime  Driver ID  \\\n",
       "0                   01 03:08:09                    01 03:35:20        279   \n",
       "1                   13 18:24:39                    13 18:57:01        303   \n",
       "2                   17 19:19:59                    17 19:31:09        212   \n",
       "3                   12 04:13:02                    12 04:37:57        352   \n",
       "4                   08 23:54:29                    09 00:37:15        313   \n",
       "\n",
       "   Restaurant ID  Consumer ID Delivery Region  Is ASAP  Order total  \\\n",
       "0             50         6738            Giza     True        16.33   \n",
       "1             96        64746       Nasr City     True        76.14   \n",
       "2            190        12484           Maadi     True        16.77   \n",
       "3            194        13920           Maadi     True        25.03   \n",
       "4              9         7037       Nasr City     True        51.57   \n",
       "\n",
       "   Amount of discount  Amount of tip  Refunded amount  \n",
       "0                 0.0           0.82              0.0  \n",
       "1                 0.0           6.45              0.0  \n",
       "2                 6.0           2.52              0.0  \n",
       "3                 0.0           5.00              0.0  \n",
       "4                 0.0           5.16              0.0  "
      ]
     },
     "execution_count": 91,
     "metadata": {},
     "output_type": "execute_result"
    }
   ],
   "source": [
    "Deliveries_data = pd.read_csv(\"Sample Deliveries Data - 1 Month - Sheet1.csv\")\n",
    "print(\"data shape: \",Deliveries_data.shape)\n",
    "Deliveries_data.head()"
   ]
  },
  {
   "cell_type": "markdown",
   "metadata": {},
   "source": [
    "### Data preprocessing "
   ]
  },
  {
   "cell_type": "markdown",
   "metadata": {},
   "source": [
    "##### 1. checking for duplicates"
   ]
  },
  {
   "cell_type": "code",
   "execution_count": 92,
   "metadata": {},
   "outputs": [
    {
     "name": "stdout",
     "output_type": "stream",
     "text": [
      "number of duplicates rows:  0\n"
     ]
    }
   ],
   "source": [
    "duplicates = Deliveries_data[Deliveries_data.duplicated()]\n",
    "print(\"number of duplicates rows: \", len(duplicates))"
   ]
  },
  {
   "cell_type": "markdown",
   "metadata": {},
   "source": [
    "#### 2. Feature selection"
   ]
  },
  {
   "cell_type": "code",
   "execution_count": 93,
   "metadata": {},
   "outputs": [
    {
     "data": {
      "text/html": [
       "<div>\n",
       "<style scoped>\n",
       "    .dataframe tbody tr th:only-of-type {\n",
       "        vertical-align: middle;\n",
       "    }\n",
       "\n",
       "    .dataframe tbody tr th {\n",
       "        vertical-align: top;\n",
       "    }\n",
       "\n",
       "    .dataframe thead th {\n",
       "        text-align: right;\n",
       "    }\n",
       "</style>\n",
       "<table border=\"1\" class=\"dataframe\">\n",
       "  <thead>\n",
       "    <tr style=\"text-align: right;\">\n",
       "      <th></th>\n",
       "      <th>Customer placed order datetime</th>\n",
       "      <th>Placed order with restaurant datetime</th>\n",
       "      <th>Driver at restaurant datetime</th>\n",
       "      <th>Delivered to consumer datetime</th>\n",
       "      <th>Driver ID</th>\n",
       "      <th>Restaurant ID</th>\n",
       "      <th>Consumer ID</th>\n",
       "      <th>Delivery Region</th>\n",
       "      <th>Is ASAP</th>\n",
       "      <th>Order total</th>\n",
       "      <th>Amount of discount</th>\n",
       "      <th>Refunded amount</th>\n",
       "    </tr>\n",
       "  </thead>\n",
       "  <tbody>\n",
       "    <tr>\n",
       "      <th>0</th>\n",
       "      <td>01 02:52:12</td>\n",
       "      <td>01 03:00:25</td>\n",
       "      <td>01 03:08:09</td>\n",
       "      <td>01 03:35:20</td>\n",
       "      <td>279</td>\n",
       "      <td>50</td>\n",
       "      <td>6738</td>\n",
       "      <td>Giza</td>\n",
       "      <td>True</td>\n",
       "      <td>16.33</td>\n",
       "      <td>0.0</td>\n",
       "      <td>0.0</td>\n",
       "    </tr>\n",
       "    <tr>\n",
       "      <th>1</th>\n",
       "      <td>13 15:58:57</td>\n",
       "      <td>13 17:56:45</td>\n",
       "      <td>13 18:24:39</td>\n",
       "      <td>13 18:57:01</td>\n",
       "      <td>303</td>\n",
       "      <td>96</td>\n",
       "      <td>64746</td>\n",
       "      <td>Nasr City</td>\n",
       "      <td>True</td>\n",
       "      <td>76.14</td>\n",
       "      <td>0.0</td>\n",
       "      <td>0.0</td>\n",
       "    </tr>\n",
       "    <tr>\n",
       "      <th>2</th>\n",
       "      <td>17 19:02:37</td>\n",
       "      <td>17 19:12:51</td>\n",
       "      <td>17 19:19:59</td>\n",
       "      <td>17 19:31:09</td>\n",
       "      <td>212</td>\n",
       "      <td>190</td>\n",
       "      <td>12484</td>\n",
       "      <td>Maadi</td>\n",
       "      <td>True</td>\n",
       "      <td>16.77</td>\n",
       "      <td>6.0</td>\n",
       "      <td>0.0</td>\n",
       "    </tr>\n",
       "    <tr>\n",
       "      <th>3</th>\n",
       "      <td>12 04:01:57</td>\n",
       "      <td>12 04:08:18</td>\n",
       "      <td>12 04:13:02</td>\n",
       "      <td>12 04:37:57</td>\n",
       "      <td>352</td>\n",
       "      <td>194</td>\n",
       "      <td>13920</td>\n",
       "      <td>Maadi</td>\n",
       "      <td>True</td>\n",
       "      <td>25.03</td>\n",
       "      <td>0.0</td>\n",
       "      <td>0.0</td>\n",
       "    </tr>\n",
       "    <tr>\n",
       "      <th>4</th>\n",
       "      <td>08 23:46:38</td>\n",
       "      <td>08 23:49:32</td>\n",
       "      <td>08 23:54:29</td>\n",
       "      <td>09 00:37:15</td>\n",
       "      <td>313</td>\n",
       "      <td>9</td>\n",
       "      <td>7037</td>\n",
       "      <td>Nasr City</td>\n",
       "      <td>True</td>\n",
       "      <td>51.57</td>\n",
       "      <td>0.0</td>\n",
       "      <td>0.0</td>\n",
       "    </tr>\n",
       "  </tbody>\n",
       "</table>\n",
       "</div>"
      ],
      "text/plain": [
       "  Customer placed order datetime Placed order with restaurant datetime  \\\n",
       "0                    01 02:52:12                           01 03:00:25   \n",
       "1                    13 15:58:57                           13 17:56:45   \n",
       "2                    17 19:02:37                           17 19:12:51   \n",
       "3                    12 04:01:57                           12 04:08:18   \n",
       "4                    08 23:46:38                           08 23:49:32   \n",
       "\n",
       "  Driver at restaurant datetime Delivered to consumer datetime  Driver ID  \\\n",
       "0                   01 03:08:09                    01 03:35:20        279   \n",
       "1                   13 18:24:39                    13 18:57:01        303   \n",
       "2                   17 19:19:59                    17 19:31:09        212   \n",
       "3                   12 04:13:02                    12 04:37:57        352   \n",
       "4                   08 23:54:29                    09 00:37:15        313   \n",
       "\n",
       "   Restaurant ID  Consumer ID Delivery Region  Is ASAP  Order total  \\\n",
       "0             50         6738            Giza     True        16.33   \n",
       "1             96        64746       Nasr City     True        76.14   \n",
       "2            190        12484           Maadi     True        16.77   \n",
       "3            194        13920           Maadi     True        25.03   \n",
       "4              9         7037       Nasr City     True        51.57   \n",
       "\n",
       "   Amount of discount  Refunded amount  \n",
       "0                 0.0              0.0  \n",
       "1                 0.0              0.0  \n",
       "2                 6.0              0.0  \n",
       "3                 0.0              0.0  \n",
       "4                 0.0              0.0  "
      ]
     },
     "execution_count": 93,
     "metadata": {},
     "output_type": "execute_result"
    }
   ],
   "source": [
    "## i have selected the features that i will need \n",
    "newData = Deliveries_data.iloc[:, [0,1,2,3,4,5,6,7,8,9,10,12] ]\n",
    "newData.head()"
   ]
  },
  {
   "cell_type": "markdown",
   "metadata": {},
   "source": [
    "#### 3.checking for missing data if any"
   ]
  },
  {
   "cell_type": "code",
   "execution_count": 94,
   "metadata": {},
   "outputs": [
    {
     "data": {
      "text/plain": [
       "Customer placed order datetime              0\n",
       "Placed order with restaurant datetime      40\n",
       "Driver at restaurant datetime            4531\n",
       "Delivered to consumer datetime              0\n",
       "Driver ID                                   0\n",
       "Restaurant ID                               0\n",
       "Consumer ID                                 0\n",
       "Delivery Region                             0\n",
       "Is ASAP                                     0\n",
       "Order total                                 0\n",
       "Amount of discount                          0\n",
       "Refunded amount                             0\n",
       "dtype: int64"
      ]
     },
     "execution_count": 94,
     "metadata": {},
     "output_type": "execute_result"
    }
   ],
   "source": [
    "newData.isnull().sum()"
   ]
  },
  {
   "cell_type": "code",
   "execution_count": 95,
   "metadata": {},
   "outputs": [
    {
     "name": "stderr",
     "output_type": "stream",
     "text": [
      "C:\\Users\\yasme\\AppData\\Local\\Temp\\ipykernel_8448\\877223442.py:2: SettingWithCopyWarning: \n",
      "A value is trying to be set on a copy of a slice from a DataFrame\n",
      "\n",
      "See the caveats in the documentation: https://pandas.pydata.org/pandas-docs/stable/user_guide/indexing.html#returning-a-view-versus-a-copy\n",
      "  newData.dropna(subset=['Placed order with restaurant datetime'], inplace=True)\n",
      "C:\\Users\\yasme\\AppData\\Local\\Temp\\ipykernel_8448\\877223442.py:3: SettingWithCopyWarning: \n",
      "A value is trying to be set on a copy of a slice from a DataFrame\n",
      "\n",
      "See the caveats in the documentation: https://pandas.pydata.org/pandas-docs/stable/user_guide/indexing.html#returning-a-view-versus-a-copy\n",
      "  newData.dropna(subset=[\"Driver at restaurant datetime\"], inplace=True)\n"
     ]
    }
   ],
   "source": [
    "## removing null values\n",
    "newData.dropna(subset=['Placed order with restaurant datetime'], inplace=True)\n",
    "newData.dropna(subset=[\"Driver at restaurant datetime\"], inplace=True)\n",
    "\n",
    "# newData[\"Driver at restaurant datetime\"] = pd.to_datetime(newData[\"Driver at restaurant datetime\"],format=\"%d %H:%M:%S\")\n",
    "# newData[\"Driver at restaurant datetime\"] = newData[\"Driver at restaurant datetime\"].fillna(newData[\"Driver at restaurant datetime\"].mean())"
   ]
  },
  {
   "cell_type": "code",
   "execution_count": 96,
   "metadata": {},
   "outputs": [
    {
     "data": {
      "text/plain": [
       "Customer placed order datetime           0\n",
       "Placed order with restaurant datetime    0\n",
       "Driver at restaurant datetime            0\n",
       "Delivered to consumer datetime           0\n",
       "Driver ID                                0\n",
       "Restaurant ID                            0\n",
       "Consumer ID                              0\n",
       "Delivery Region                          0\n",
       "Is ASAP                                  0\n",
       "Order total                              0\n",
       "Amount of discount                       0\n",
       "Refunded amount                          0\n",
       "dtype: int64"
      ]
     },
     "execution_count": 96,
     "metadata": {},
     "output_type": "execute_result"
    }
   ],
   "source": [
    "## make sure there is no null values\n",
    "newData.isnull().sum()"
   ]
  },
  {
   "cell_type": "code",
   "execution_count": 97,
   "metadata": {},
   "outputs": [
    {
     "data": {
      "text/html": [
       "<div>\n",
       "<style scoped>\n",
       "    .dataframe tbody tr th:only-of-type {\n",
       "        vertical-align: middle;\n",
       "    }\n",
       "\n",
       "    .dataframe tbody tr th {\n",
       "        vertical-align: top;\n",
       "    }\n",
       "\n",
       "    .dataframe thead th {\n",
       "        text-align: right;\n",
       "    }\n",
       "</style>\n",
       "<table border=\"1\" class=\"dataframe\">\n",
       "  <thead>\n",
       "    <tr style=\"text-align: right;\">\n",
       "      <th></th>\n",
       "      <th>Customer placed order datetime</th>\n",
       "      <th>Placed order with restaurant datetime</th>\n",
       "      <th>Driver at restaurant datetime</th>\n",
       "      <th>Delivered to consumer datetime</th>\n",
       "      <th>Driver ID</th>\n",
       "      <th>Restaurant ID</th>\n",
       "      <th>Consumer ID</th>\n",
       "      <th>Delivery Region</th>\n",
       "      <th>Is ASAP</th>\n",
       "      <th>Order total</th>\n",
       "      <th>Amount of discount</th>\n",
       "      <th>Refunded amount</th>\n",
       "    </tr>\n",
       "  </thead>\n",
       "  <tbody>\n",
       "    <tr>\n",
       "      <th>0</th>\n",
       "      <td>01 02:52:12</td>\n",
       "      <td>01 03:00:25</td>\n",
       "      <td>01 03:08:09</td>\n",
       "      <td>01 03:35:20</td>\n",
       "      <td>279</td>\n",
       "      <td>50</td>\n",
       "      <td>6738</td>\n",
       "      <td>Giza</td>\n",
       "      <td>True</td>\n",
       "      <td>16.33</td>\n",
       "      <td>0.0</td>\n",
       "      <td>0.0</td>\n",
       "    </tr>\n",
       "    <tr>\n",
       "      <th>1</th>\n",
       "      <td>13 15:58:57</td>\n",
       "      <td>13 17:56:45</td>\n",
       "      <td>13 18:24:39</td>\n",
       "      <td>13 18:57:01</td>\n",
       "      <td>303</td>\n",
       "      <td>96</td>\n",
       "      <td>64746</td>\n",
       "      <td>Nasr City</td>\n",
       "      <td>True</td>\n",
       "      <td>76.14</td>\n",
       "      <td>0.0</td>\n",
       "      <td>0.0</td>\n",
       "    </tr>\n",
       "    <tr>\n",
       "      <th>2</th>\n",
       "      <td>17 19:02:37</td>\n",
       "      <td>17 19:12:51</td>\n",
       "      <td>17 19:19:59</td>\n",
       "      <td>17 19:31:09</td>\n",
       "      <td>212</td>\n",
       "      <td>190</td>\n",
       "      <td>12484</td>\n",
       "      <td>Maadi</td>\n",
       "      <td>True</td>\n",
       "      <td>16.77</td>\n",
       "      <td>6.0</td>\n",
       "      <td>0.0</td>\n",
       "    </tr>\n",
       "    <tr>\n",
       "      <th>3</th>\n",
       "      <td>12 04:01:57</td>\n",
       "      <td>12 04:08:18</td>\n",
       "      <td>12 04:13:02</td>\n",
       "      <td>12 04:37:57</td>\n",
       "      <td>352</td>\n",
       "      <td>194</td>\n",
       "      <td>13920</td>\n",
       "      <td>Maadi</td>\n",
       "      <td>True</td>\n",
       "      <td>25.03</td>\n",
       "      <td>0.0</td>\n",
       "      <td>0.0</td>\n",
       "    </tr>\n",
       "    <tr>\n",
       "      <th>4</th>\n",
       "      <td>08 23:46:38</td>\n",
       "      <td>08 23:49:32</td>\n",
       "      <td>08 23:54:29</td>\n",
       "      <td>09 00:37:15</td>\n",
       "      <td>313</td>\n",
       "      <td>9</td>\n",
       "      <td>7037</td>\n",
       "      <td>Nasr City</td>\n",
       "      <td>True</td>\n",
       "      <td>51.57</td>\n",
       "      <td>0.0</td>\n",
       "      <td>0.0</td>\n",
       "    </tr>\n",
       "  </tbody>\n",
       "</table>\n",
       "</div>"
      ],
      "text/plain": [
       "  Customer placed order datetime Placed order with restaurant datetime  \\\n",
       "0                    01 02:52:12                           01 03:00:25   \n",
       "1                    13 15:58:57                           13 17:56:45   \n",
       "2                    17 19:02:37                           17 19:12:51   \n",
       "3                    12 04:01:57                           12 04:08:18   \n",
       "4                    08 23:46:38                           08 23:49:32   \n",
       "\n",
       "  Driver at restaurant datetime Delivered to consumer datetime  Driver ID  \\\n",
       "0                   01 03:08:09                    01 03:35:20        279   \n",
       "1                   13 18:24:39                    13 18:57:01        303   \n",
       "2                   17 19:19:59                    17 19:31:09        212   \n",
       "3                   12 04:13:02                    12 04:37:57        352   \n",
       "4                   08 23:54:29                    09 00:37:15        313   \n",
       "\n",
       "   Restaurant ID  Consumer ID Delivery Region  Is ASAP  Order total  \\\n",
       "0             50         6738            Giza     True        16.33   \n",
       "1             96        64746       Nasr City     True        76.14   \n",
       "2            190        12484           Maadi     True        16.77   \n",
       "3            194        13920           Maadi     True        25.03   \n",
       "4              9         7037       Nasr City     True        51.57   \n",
       "\n",
       "   Amount of discount  Refunded amount  \n",
       "0                 0.0              0.0  \n",
       "1                 0.0              0.0  \n",
       "2                 6.0              0.0  \n",
       "3                 0.0              0.0  \n",
       "4                 0.0              0.0  "
      ]
     },
     "execution_count": 97,
     "metadata": {},
     "output_type": "execute_result"
    }
   ],
   "source": [
    "newData.head()"
   ]
  },
  {
   "cell_type": "markdown",
   "metadata": {},
   "source": [
    "#### 4. Feature engineering"
   ]
  },
  {
   "cell_type": "code",
   "execution_count": 98,
   "metadata": {},
   "outputs": [
    {
     "name": "stderr",
     "output_type": "stream",
     "text": [
      "C:\\Users\\yasme\\AppData\\Local\\Temp\\ipykernel_8448\\264954592.py:2: SettingWithCopyWarning: \n",
      "A value is trying to be set on a copy of a slice from a DataFrame.\n",
      "Try using .loc[row_indexer,col_indexer] = value instead\n",
      "\n",
      "See the caveats in the documentation: https://pandas.pydata.org/pandas-docs/stable/user_guide/indexing.html#returning-a-view-versus-a-copy\n",
      "  newData[\"Customer placed order datetime\"] = pd.to_datetime(newData[\"Customer placed order datetime\"],format=\"%d %H:%M:%S\")\n",
      "C:\\Users\\yasme\\AppData\\Local\\Temp\\ipykernel_8448\\264954592.py:3: SettingWithCopyWarning: \n",
      "A value is trying to be set on a copy of a slice from a DataFrame.\n",
      "Try using .loc[row_indexer,col_indexer] = value instead\n",
      "\n",
      "See the caveats in the documentation: https://pandas.pydata.org/pandas-docs/stable/user_guide/indexing.html#returning-a-view-versus-a-copy\n",
      "  newData[\"Placed order with restaurant datetime\"] = pd.to_datetime(newData[\"Placed order with restaurant datetime\"],format=\"%d %H:%M:%S\")\n",
      "C:\\Users\\yasme\\AppData\\Local\\Temp\\ipykernel_8448\\264954592.py:4: SettingWithCopyWarning: \n",
      "A value is trying to be set on a copy of a slice from a DataFrame.\n",
      "Try using .loc[row_indexer,col_indexer] = value instead\n",
      "\n",
      "See the caveats in the documentation: https://pandas.pydata.org/pandas-docs/stable/user_guide/indexing.html#returning-a-view-versus-a-copy\n",
      "  newData[\"Delivered to consumer datetime\"] = pd.to_datetime(newData[\"Delivered to consumer datetime\"],format=\"%d %H:%M:%S\")\n",
      "C:\\Users\\yasme\\AppData\\Local\\Temp\\ipykernel_8448\\264954592.py:5: SettingWithCopyWarning: \n",
      "A value is trying to be set on a copy of a slice from a DataFrame.\n",
      "Try using .loc[row_indexer,col_indexer] = value instead\n",
      "\n",
      "See the caveats in the documentation: https://pandas.pydata.org/pandas-docs/stable/user_guide/indexing.html#returning-a-view-versus-a-copy\n",
      "  newData[\"Driver at restaurant datetime\"] = pd.to_datetime(newData[\"Driver at restaurant datetime\"],format=\"%d %H:%M:%S\")\n"
     ]
    }
   ],
   "source": [
    "## changing the time columns type from string to time\n",
    "newData[\"Customer placed order datetime\"] = pd.to_datetime(newData[\"Customer placed order datetime\"],format=\"%d %H:%M:%S\")\n",
    "newData[\"Placed order with restaurant datetime\"] = pd.to_datetime(newData[\"Placed order with restaurant datetime\"],format=\"%d %H:%M:%S\")\n",
    "newData[\"Delivered to consumer datetime\"] = pd.to_datetime(newData[\"Delivered to consumer datetime\"],format=\"%d %H:%M:%S\")\n",
    "newData[\"Driver at restaurant datetime\"] = pd.to_datetime(newData[\"Driver at restaurant datetime\"],format=\"%d %H:%M:%S\")"
   ]
  },
  {
   "cell_type": "code",
   "execution_count": 99,
   "metadata": {},
   "outputs": [
    {
     "name": "stderr",
     "output_type": "stream",
     "text": [
      "C:\\Users\\yasme\\AppData\\Local\\Temp\\ipykernel_8448\\3838330305.py:2: SettingWithCopyWarning: \n",
      "A value is trying to be set on a copy of a slice from a DataFrame.\n",
      "Try using .loc[row_indexer,col_indexer] = value instead\n",
      "\n",
      "See the caveats in the documentation: https://pandas.pydata.org/pandas-docs/stable/user_guide/indexing.html#returning-a-view-versus-a-copy\n",
      "  newData[\"Time the res took to recieve the order\"] = newData[\"Placed order with restaurant datetime\"] - newData[\"Customer placed order datetime\"]\n",
      "C:\\Users\\yasme\\AppData\\Local\\Temp\\ipykernel_8448\\3838330305.py:3: SettingWithCopyWarning: \n",
      "A value is trying to be set on a copy of a slice from a DataFrame.\n",
      "Try using .loc[row_indexer,col_indexer] = value instead\n",
      "\n",
      "See the caveats in the documentation: https://pandas.pydata.org/pandas-docs/stable/user_guide/indexing.html#returning-a-view-versus-a-copy\n",
      "  newData[\"Time the driver took to get to the res\"] = newData[\"Driver at restaurant datetime\"] - newData[\"Placed order with restaurant datetime\"]\n",
      "C:\\Users\\yasme\\AppData\\Local\\Temp\\ipykernel_8448\\3838330305.py:4: SettingWithCopyWarning: \n",
      "A value is trying to be set on a copy of a slice from a DataFrame.\n",
      "Try using .loc[row_indexer,col_indexer] = value instead\n",
      "\n",
      "See the caveats in the documentation: https://pandas.pydata.org/pandas-docs/stable/user_guide/indexing.html#returning-a-view-versus-a-copy\n",
      "  newData[\"Time the driver took to deliver the order\"] = newData[\"Delivered to consumer datetime\"] - newData[\"Driver at restaurant datetime\"]\n"
     ]
    }
   ],
   "source": [
    "## extract new features from the data, and create a new column for it in the data\n",
    "newData[\"Time the res took to recieve the order\"] = newData[\"Placed order with restaurant datetime\"] - newData[\"Customer placed order datetime\"]\n",
    "newData[\"Time the driver took to get to the res\"] = newData[\"Driver at restaurant datetime\"] - newData[\"Placed order with restaurant datetime\"]\n",
    "newData[\"Time the driver took to deliver the order\"] = newData[\"Delivered to consumer datetime\"] - newData[\"Driver at restaurant datetime\"]"
   ]
  },
  {
   "cell_type": "code",
   "execution_count": 100,
   "metadata": {},
   "outputs": [
    {
     "data": {
      "text/html": [
       "<div>\n",
       "<style scoped>\n",
       "    .dataframe tbody tr th:only-of-type {\n",
       "        vertical-align: middle;\n",
       "    }\n",
       "\n",
       "    .dataframe tbody tr th {\n",
       "        vertical-align: top;\n",
       "    }\n",
       "\n",
       "    .dataframe thead th {\n",
       "        text-align: right;\n",
       "    }\n",
       "</style>\n",
       "<table border=\"1\" class=\"dataframe\">\n",
       "  <thead>\n",
       "    <tr style=\"text-align: right;\">\n",
       "      <th></th>\n",
       "      <th>Customer placed order datetime</th>\n",
       "      <th>Placed order with restaurant datetime</th>\n",
       "      <th>Driver at restaurant datetime</th>\n",
       "      <th>Delivered to consumer datetime</th>\n",
       "      <th>Driver ID</th>\n",
       "      <th>Restaurant ID</th>\n",
       "      <th>Consumer ID</th>\n",
       "      <th>Delivery Region</th>\n",
       "      <th>Is ASAP</th>\n",
       "      <th>Order total</th>\n",
       "      <th>Amount of discount</th>\n",
       "      <th>Refunded amount</th>\n",
       "      <th>Time the res took to recieve the order</th>\n",
       "      <th>Time the driver took to get to the res</th>\n",
       "      <th>Time the driver took to deliver the order</th>\n",
       "    </tr>\n",
       "  </thead>\n",
       "  <tbody>\n",
       "    <tr>\n",
       "      <th>0</th>\n",
       "      <td>1900-01-01 02:52:12</td>\n",
       "      <td>1900-01-01 03:00:25</td>\n",
       "      <td>1900-01-01 03:08:09</td>\n",
       "      <td>1900-01-01 03:35:20</td>\n",
       "      <td>279</td>\n",
       "      <td>50</td>\n",
       "      <td>6738</td>\n",
       "      <td>Giza</td>\n",
       "      <td>True</td>\n",
       "      <td>16.33</td>\n",
       "      <td>0.0</td>\n",
       "      <td>0.0</td>\n",
       "      <td>0 days 00:08:13</td>\n",
       "      <td>0 days 00:07:44</td>\n",
       "      <td>0 days 00:27:11</td>\n",
       "    </tr>\n",
       "    <tr>\n",
       "      <th>1</th>\n",
       "      <td>1900-01-13 15:58:57</td>\n",
       "      <td>1900-01-13 17:56:45</td>\n",
       "      <td>1900-01-13 18:24:39</td>\n",
       "      <td>1900-01-13 18:57:01</td>\n",
       "      <td>303</td>\n",
       "      <td>96</td>\n",
       "      <td>64746</td>\n",
       "      <td>Nasr City</td>\n",
       "      <td>True</td>\n",
       "      <td>76.14</td>\n",
       "      <td>0.0</td>\n",
       "      <td>0.0</td>\n",
       "      <td>0 days 01:57:48</td>\n",
       "      <td>0 days 00:27:54</td>\n",
       "      <td>0 days 00:32:22</td>\n",
       "    </tr>\n",
       "    <tr>\n",
       "      <th>2</th>\n",
       "      <td>1900-01-17 19:02:37</td>\n",
       "      <td>1900-01-17 19:12:51</td>\n",
       "      <td>1900-01-17 19:19:59</td>\n",
       "      <td>1900-01-17 19:31:09</td>\n",
       "      <td>212</td>\n",
       "      <td>190</td>\n",
       "      <td>12484</td>\n",
       "      <td>Maadi</td>\n",
       "      <td>True</td>\n",
       "      <td>16.77</td>\n",
       "      <td>6.0</td>\n",
       "      <td>0.0</td>\n",
       "      <td>0 days 00:10:14</td>\n",
       "      <td>0 days 00:07:08</td>\n",
       "      <td>0 days 00:11:10</td>\n",
       "    </tr>\n",
       "    <tr>\n",
       "      <th>3</th>\n",
       "      <td>1900-01-12 04:01:57</td>\n",
       "      <td>1900-01-12 04:08:18</td>\n",
       "      <td>1900-01-12 04:13:02</td>\n",
       "      <td>1900-01-12 04:37:57</td>\n",
       "      <td>352</td>\n",
       "      <td>194</td>\n",
       "      <td>13920</td>\n",
       "      <td>Maadi</td>\n",
       "      <td>True</td>\n",
       "      <td>25.03</td>\n",
       "      <td>0.0</td>\n",
       "      <td>0.0</td>\n",
       "      <td>0 days 00:06:21</td>\n",
       "      <td>0 days 00:04:44</td>\n",
       "      <td>0 days 00:24:55</td>\n",
       "    </tr>\n",
       "    <tr>\n",
       "      <th>4</th>\n",
       "      <td>1900-01-08 23:46:38</td>\n",
       "      <td>1900-01-08 23:49:32</td>\n",
       "      <td>1900-01-08 23:54:29</td>\n",
       "      <td>1900-01-09 00:37:15</td>\n",
       "      <td>313</td>\n",
       "      <td>9</td>\n",
       "      <td>7037</td>\n",
       "      <td>Nasr City</td>\n",
       "      <td>True</td>\n",
       "      <td>51.57</td>\n",
       "      <td>0.0</td>\n",
       "      <td>0.0</td>\n",
       "      <td>0 days 00:02:54</td>\n",
       "      <td>0 days 00:04:57</td>\n",
       "      <td>0 days 00:42:46</td>\n",
       "    </tr>\n",
       "  </tbody>\n",
       "</table>\n",
       "</div>"
      ],
      "text/plain": [
       "  Customer placed order datetime Placed order with restaurant datetime  \\\n",
       "0            1900-01-01 02:52:12                   1900-01-01 03:00:25   \n",
       "1            1900-01-13 15:58:57                   1900-01-13 17:56:45   \n",
       "2            1900-01-17 19:02:37                   1900-01-17 19:12:51   \n",
       "3            1900-01-12 04:01:57                   1900-01-12 04:08:18   \n",
       "4            1900-01-08 23:46:38                   1900-01-08 23:49:32   \n",
       "\n",
       "  Driver at restaurant datetime Delivered to consumer datetime  Driver ID  \\\n",
       "0           1900-01-01 03:08:09            1900-01-01 03:35:20        279   \n",
       "1           1900-01-13 18:24:39            1900-01-13 18:57:01        303   \n",
       "2           1900-01-17 19:19:59            1900-01-17 19:31:09        212   \n",
       "3           1900-01-12 04:13:02            1900-01-12 04:37:57        352   \n",
       "4           1900-01-08 23:54:29            1900-01-09 00:37:15        313   \n",
       "\n",
       "   Restaurant ID  Consumer ID Delivery Region  Is ASAP  Order total  \\\n",
       "0             50         6738            Giza     True        16.33   \n",
       "1             96        64746       Nasr City     True        76.14   \n",
       "2            190        12484           Maadi     True        16.77   \n",
       "3            194        13920           Maadi     True        25.03   \n",
       "4              9         7037       Nasr City     True        51.57   \n",
       "\n",
       "   Amount of discount  Refunded amount Time the res took to recieve the order  \\\n",
       "0                 0.0              0.0                        0 days 00:08:13   \n",
       "1                 0.0              0.0                        0 days 01:57:48   \n",
       "2                 6.0              0.0                        0 days 00:10:14   \n",
       "3                 0.0              0.0                        0 days 00:06:21   \n",
       "4                 0.0              0.0                        0 days 00:02:54   \n",
       "\n",
       "  Time the driver took to get to the res  \\\n",
       "0                        0 days 00:07:44   \n",
       "1                        0 days 00:27:54   \n",
       "2                        0 days 00:07:08   \n",
       "3                        0 days 00:04:44   \n",
       "4                        0 days 00:04:57   \n",
       "\n",
       "  Time the driver took to deliver the order  \n",
       "0                           0 days 00:27:11  \n",
       "1                           0 days 00:32:22  \n",
       "2                           0 days 00:11:10  \n",
       "3                           0 days 00:24:55  \n",
       "4                           0 days 00:42:46  "
      ]
     },
     "execution_count": 100,
     "metadata": {},
     "output_type": "execute_result"
    }
   ],
   "source": [
    "## data after the new features \n",
    "newData.head()"
   ]
  },
  {
   "cell_type": "markdown",
   "metadata": {},
   "source": [
    "#### 5. Encode categorical features "
   ]
  },
  {
   "cell_type": "code",
   "execution_count": 101,
   "metadata": {},
   "outputs": [
    {
     "name": "stderr",
     "output_type": "stream",
     "text": [
      "C:\\Users\\yasme\\AppData\\Local\\Temp\\ipykernel_8448\\2423586261.py:3: SettingWithCopyWarning: \n",
      "A value is trying to be set on a copy of a slice from a DataFrame.\n",
      "Try using .loc[row_indexer,col_indexer] = value instead\n",
      "\n",
      "See the caveats in the documentation: https://pandas.pydata.org/pandas-docs/stable/user_guide/indexing.html#returning-a-view-versus-a-copy\n",
      "  newData[\"Delivery Region\"] = newData[\"Delivery Region\"].astype('category')\n",
      "C:\\Users\\yasme\\AppData\\Local\\Temp\\ipykernel_8448\\2423586261.py:4: SettingWithCopyWarning: \n",
      "A value is trying to be set on a copy of a slice from a DataFrame.\n",
      "Try using .loc[row_indexer,col_indexer] = value instead\n",
      "\n",
      "See the caveats in the documentation: https://pandas.pydata.org/pandas-docs/stable/user_guide/indexing.html#returning-a-view-versus-a-copy\n",
      "  newData[\"Delivery Region\"] = newData[\"Delivery Region\"].cat.codes #  gizza -> 0   maadi -> 1   nasr city -> 2    None ->3\n",
      "C:\\Users\\yasme\\AppData\\Local\\Temp\\ipykernel_8448\\2423586261.py:6: SettingWithCopyWarning: \n",
      "A value is trying to be set on a copy of a slice from a DataFrame.\n",
      "Try using .loc[row_indexer,col_indexer] = value instead\n",
      "\n",
      "See the caveats in the documentation: https://pandas.pydata.org/pandas-docs/stable/user_guide/indexing.html#returning-a-view-versus-a-copy\n",
      "  newData[\"Is ASAP\"] = newData[\"Is ASAP\"].astype('category')\n",
      "C:\\Users\\yasme\\AppData\\Local\\Temp\\ipykernel_8448\\2423586261.py:7: SettingWithCopyWarning: \n",
      "A value is trying to be set on a copy of a slice from a DataFrame.\n",
      "Try using .loc[row_indexer,col_indexer] = value instead\n",
      "\n",
      "See the caveats in the documentation: https://pandas.pydata.org/pandas-docs/stable/user_guide/indexing.html#returning-a-view-versus-a-copy\n",
      "  newData[\"Is ASAP\"] = newData[\"Is ASAP\"].cat.codes # true -> 1   false -> 0\n"
     ]
    },
    {
     "data": {
      "text/html": [
       "<div>\n",
       "<style scoped>\n",
       "    .dataframe tbody tr th:only-of-type {\n",
       "        vertical-align: middle;\n",
       "    }\n",
       "\n",
       "    .dataframe tbody tr th {\n",
       "        vertical-align: top;\n",
       "    }\n",
       "\n",
       "    .dataframe thead th {\n",
       "        text-align: right;\n",
       "    }\n",
       "</style>\n",
       "<table border=\"1\" class=\"dataframe\">\n",
       "  <thead>\n",
       "    <tr style=\"text-align: right;\">\n",
       "      <th></th>\n",
       "      <th>Customer placed order datetime</th>\n",
       "      <th>Placed order with restaurant datetime</th>\n",
       "      <th>Driver at restaurant datetime</th>\n",
       "      <th>Delivered to consumer datetime</th>\n",
       "      <th>Driver ID</th>\n",
       "      <th>Restaurant ID</th>\n",
       "      <th>Consumer ID</th>\n",
       "      <th>Delivery Region</th>\n",
       "      <th>Is ASAP</th>\n",
       "      <th>Order total</th>\n",
       "      <th>Amount of discount</th>\n",
       "      <th>Refunded amount</th>\n",
       "      <th>Time the res took to recieve the order</th>\n",
       "      <th>Time the driver took to get to the res</th>\n",
       "      <th>Time the driver took to deliver the order</th>\n",
       "    </tr>\n",
       "  </thead>\n",
       "  <tbody>\n",
       "    <tr>\n",
       "      <th>0</th>\n",
       "      <td>1900-01-01 02:52:12</td>\n",
       "      <td>1900-01-01 03:00:25</td>\n",
       "      <td>1900-01-01 03:08:09</td>\n",
       "      <td>1900-01-01 03:35:20</td>\n",
       "      <td>279</td>\n",
       "      <td>50</td>\n",
       "      <td>6738</td>\n",
       "      <td>0</td>\n",
       "      <td>1</td>\n",
       "      <td>16.33</td>\n",
       "      <td>0.0</td>\n",
       "      <td>0.0</td>\n",
       "      <td>0 days 00:08:13</td>\n",
       "      <td>0 days 00:07:44</td>\n",
       "      <td>0 days 00:27:11</td>\n",
       "    </tr>\n",
       "    <tr>\n",
       "      <th>1</th>\n",
       "      <td>1900-01-13 15:58:57</td>\n",
       "      <td>1900-01-13 17:56:45</td>\n",
       "      <td>1900-01-13 18:24:39</td>\n",
       "      <td>1900-01-13 18:57:01</td>\n",
       "      <td>303</td>\n",
       "      <td>96</td>\n",
       "      <td>64746</td>\n",
       "      <td>2</td>\n",
       "      <td>1</td>\n",
       "      <td>76.14</td>\n",
       "      <td>0.0</td>\n",
       "      <td>0.0</td>\n",
       "      <td>0 days 01:57:48</td>\n",
       "      <td>0 days 00:27:54</td>\n",
       "      <td>0 days 00:32:22</td>\n",
       "    </tr>\n",
       "    <tr>\n",
       "      <th>2</th>\n",
       "      <td>1900-01-17 19:02:37</td>\n",
       "      <td>1900-01-17 19:12:51</td>\n",
       "      <td>1900-01-17 19:19:59</td>\n",
       "      <td>1900-01-17 19:31:09</td>\n",
       "      <td>212</td>\n",
       "      <td>190</td>\n",
       "      <td>12484</td>\n",
       "      <td>1</td>\n",
       "      <td>1</td>\n",
       "      <td>16.77</td>\n",
       "      <td>6.0</td>\n",
       "      <td>0.0</td>\n",
       "      <td>0 days 00:10:14</td>\n",
       "      <td>0 days 00:07:08</td>\n",
       "      <td>0 days 00:11:10</td>\n",
       "    </tr>\n",
       "    <tr>\n",
       "      <th>3</th>\n",
       "      <td>1900-01-12 04:01:57</td>\n",
       "      <td>1900-01-12 04:08:18</td>\n",
       "      <td>1900-01-12 04:13:02</td>\n",
       "      <td>1900-01-12 04:37:57</td>\n",
       "      <td>352</td>\n",
       "      <td>194</td>\n",
       "      <td>13920</td>\n",
       "      <td>1</td>\n",
       "      <td>1</td>\n",
       "      <td>25.03</td>\n",
       "      <td>0.0</td>\n",
       "      <td>0.0</td>\n",
       "      <td>0 days 00:06:21</td>\n",
       "      <td>0 days 00:04:44</td>\n",
       "      <td>0 days 00:24:55</td>\n",
       "    </tr>\n",
       "    <tr>\n",
       "      <th>4</th>\n",
       "      <td>1900-01-08 23:46:38</td>\n",
       "      <td>1900-01-08 23:49:32</td>\n",
       "      <td>1900-01-08 23:54:29</td>\n",
       "      <td>1900-01-09 00:37:15</td>\n",
       "      <td>313</td>\n",
       "      <td>9</td>\n",
       "      <td>7037</td>\n",
       "      <td>2</td>\n",
       "      <td>1</td>\n",
       "      <td>51.57</td>\n",
       "      <td>0.0</td>\n",
       "      <td>0.0</td>\n",
       "      <td>0 days 00:02:54</td>\n",
       "      <td>0 days 00:04:57</td>\n",
       "      <td>0 days 00:42:46</td>\n",
       "    </tr>\n",
       "  </tbody>\n",
       "</table>\n",
       "</div>"
      ],
      "text/plain": [
       "  Customer placed order datetime Placed order with restaurant datetime  \\\n",
       "0            1900-01-01 02:52:12                   1900-01-01 03:00:25   \n",
       "1            1900-01-13 15:58:57                   1900-01-13 17:56:45   \n",
       "2            1900-01-17 19:02:37                   1900-01-17 19:12:51   \n",
       "3            1900-01-12 04:01:57                   1900-01-12 04:08:18   \n",
       "4            1900-01-08 23:46:38                   1900-01-08 23:49:32   \n",
       "\n",
       "  Driver at restaurant datetime Delivered to consumer datetime  Driver ID  \\\n",
       "0           1900-01-01 03:08:09            1900-01-01 03:35:20        279   \n",
       "1           1900-01-13 18:24:39            1900-01-13 18:57:01        303   \n",
       "2           1900-01-17 19:19:59            1900-01-17 19:31:09        212   \n",
       "3           1900-01-12 04:13:02            1900-01-12 04:37:57        352   \n",
       "4           1900-01-08 23:54:29            1900-01-09 00:37:15        313   \n",
       "\n",
       "   Restaurant ID  Consumer ID  Delivery Region  Is ASAP  Order total  \\\n",
       "0             50         6738                0        1        16.33   \n",
       "1             96        64746                2        1        76.14   \n",
       "2            190        12484                1        1        16.77   \n",
       "3            194        13920                1        1        25.03   \n",
       "4              9         7037                2        1        51.57   \n",
       "\n",
       "   Amount of discount  Refunded amount Time the res took to recieve the order  \\\n",
       "0                 0.0              0.0                        0 days 00:08:13   \n",
       "1                 0.0              0.0                        0 days 01:57:48   \n",
       "2                 6.0              0.0                        0 days 00:10:14   \n",
       "3                 0.0              0.0                        0 days 00:06:21   \n",
       "4                 0.0              0.0                        0 days 00:02:54   \n",
       "\n",
       "  Time the driver took to get to the res  \\\n",
       "0                        0 days 00:07:44   \n",
       "1                        0 days 00:27:54   \n",
       "2                        0 days 00:07:08   \n",
       "3                        0 days 00:04:44   \n",
       "4                        0 days 00:04:57   \n",
       "\n",
       "  Time the driver took to deliver the order  \n",
       "0                           0 days 00:27:11  \n",
       "1                           0 days 00:32:22  \n",
       "2                           0 days 00:11:10  \n",
       "3                           0 days 00:24:55  \n",
       "4                           0 days 00:42:46  "
      ]
     },
     "execution_count": 101,
     "metadata": {},
     "output_type": "execute_result"
    }
   ],
   "source": [
    "## encoding delivery region, and is asap columns (changing their type from categorical to int)\n",
    "\n",
    "newData[\"Delivery Region\"] = newData[\"Delivery Region\"].astype('category')\n",
    "newData[\"Delivery Region\"] = newData[\"Delivery Region\"].cat.codes #  gizza -> 0   maadi -> 1   nasr city -> 2    None ->3\n",
    "\n",
    "newData[\"Is ASAP\"] = newData[\"Is ASAP\"].astype('category')\n",
    "newData[\"Is ASAP\"] = newData[\"Is ASAP\"].cat.codes # true -> 1   false -> 0\n",
    "\n",
    "newData.head()"
   ]
  },
  {
   "cell_type": "markdown",
   "metadata": {},
   "source": [
    "### Answering some questions"
   ]
  },
  {
   "cell_type": "markdown",
   "metadata": {},
   "source": [
    "##### how many orders were made by the same customer?"
   ]
  },
  {
   "cell_type": "code",
   "execution_count": 102,
   "metadata": {},
   "outputs": [
    {
     "name": "stdout",
     "output_type": "stream",
     "text": [
      "max number of orders with the same customer:  54\n",
      "min number of orders with the same customer:  1\n"
     ]
    }
   ],
   "source": [
    "customers = newData[\"Consumer ID\"].unique()  ## extact the customers\n",
    "freq_OF_customer=newData[\"Consumer ID\"].value_counts() ## get the number of orders for each customer\n",
    "print(\"max number of orders with the same customer: \", max(freq_OF_customer))\n",
    "print(\"min number of orders with the same customer: \", min(freq_OF_customer))"
   ]
  },
  {
   "cell_type": "markdown",
   "metadata": {},
   "source": [
    "##### Daily active drivers/users"
   ]
  },
  {
   "cell_type": "code",
   "execution_count": 103,
   "metadata": {},
   "outputs": [],
   "source": [
    "## check number of orders in each day \n",
    "m = newData.shape[0]\n",
    "DailyActiveUsers = []\n",
    "count = 0\n",
    "\n",
    "for i in range(31):\n",
    "    for j in range(m):\n",
    "        d = newData[\"Customer placed order datetime\"].iloc[j].day\n",
    "        if i+1 == d :\n",
    "            count += 1\n",
    "    DailyActiveUsers.append(count)\n",
    "    count = 0"
   ]
  },
  {
   "cell_type": "code",
   "execution_count": 104,
   "metadata": {},
   "outputs": [
    {
     "name": "stdout",
     "output_type": "stream",
     "text": [
      "daily active users average:  436\n"
     ]
    }
   ],
   "source": [
    "DailyActiveUsers_avg = round(sum(DailyActiveUsers)/31)\n",
    "print(\"daily active users average: \", DailyActiveUsers_avg)"
   ]
  },
  {
   "cell_type": "code",
   "execution_count": 105,
   "metadata": {},
   "outputs": [
    {
     "data": {
      "image/png": "[encoded data removed]",
      "text/plain": [
       "<Figure size 640x480 with 1 Axes>"
      ]
     },
     "metadata": {},
     "output_type": "display_data"
    }
   ],
   "source": [
    "Days = list(range(1,32))\n",
    "fig, ax = plt.subplots()\n",
    "ax.plot(Days, DailyActiveUsers)\n",
    "plt.xlabel(\"Days\")\n",
    "plt.ylabel(\"number of orders\")\n",
    "plt.title(\"the change in the number of orders through the month\")\n",
    "plt.show()"
   ]
  },
  {
   "cell_type": "code",
   "execution_count": 106,
   "metadata": {},
   "outputs": [],
   "source": [
    "DailyActiveUsers_Data = {\n",
    "    \"daily active users/drivers\": DailyActiveUsers\n",
    "}\n",
    "## i made this step to visualize it in excel\n",
    "DailyActiveUsers_Data = pd.DataFrame(DailyActiveUsers_Data)\n",
    "# DailyActiveUsers_Data.to_excel(\"DailyActiveUsers.xlsx\",sheet_name=\"daily active users or drivers\")"
   ]
  },
  {
   "cell_type": "markdown",
   "metadata": {},
   "source": [
    "##  Drivers’ Analysis"
   ]
  },
  {
   "cell_type": "markdown",
   "metadata": {},
   "source": [
    "##### Delivery Drivers Productivity"
   ]
  },
  {
   "cell_type": "code",
   "execution_count": 107,
   "metadata": {},
   "outputs": [],
   "source": [
    "## count number of orders based on the driver id \n",
    "Driver_productivty = newData[\"Driver ID\"].value_counts()\n",
    "drivers = Driver_productivty.index"
   ]
  },
  {
   "cell_type": "code",
   "execution_count": 108,
   "metadata": {},
   "outputs": [
    {
     "data": {
      "image/png": "[encoded data removed]",
      "text/plain": [
       "<Figure size 640x480 with 1 Axes>"
      ]
     },
     "metadata": {},
     "output_type": "display_data"
    }
   ],
   "source": [
    "fig, ax = plt.subplots()\n",
    "ax.scatter(drivers, Driver_productivty)\n",
    "ax.set_xlabel(\"Driver ID\")\n",
    "ax.set_ylabel(\"number of deliveries\")\n",
    "ax.set_title(\"number of deliveries for each driver\")\n",
    "plt.show()"
   ]
  },
  {
   "cell_type": "code",
   "execution_count": 109,
   "metadata": {},
   "outputs": [
    {
     "name": "stdout",
     "output_type": "stream",
     "text": [
      "maximum number of deliveries: 240  Driver ID: 248\n",
      "minimum number of deliveries: 1  Driver ID: 236\n",
      "average number of deliveries for delivery drivers through the month: 46\n"
     ]
    }
   ],
   "source": [
    "print(\"maximum number of deliveries:\", max(Driver_productivty) , \" Driver ID:\", Driver_productivty.idxmax() )\n",
    "print(\"minimum number of deliveries:\", min(Driver_productivty) , \" Driver ID:\", Driver_productivty.idxmin() )\n",
    "print(\"average number of deliveries for delivery drivers through the month:\", round(sum(Driver_productivty)/len(drivers)))"
   ]
  },
  {
   "cell_type": "markdown",
   "metadata": {},
   "source": [
    "##### working hours spent for each driver"
   ]
  },
  {
   "cell_type": "code",
   "execution_count": 110,
   "metadata": {},
   "outputs": [],
   "source": [
    "## calculate working hours for drivers\n",
    "totalTime = 0\n",
    "TimeForDrivers = []\n",
    "for i in range(len(drivers)):\n",
    "    for j in range(len(newData[\"Driver ID\"])):\n",
    "        d = drivers[i]\n",
    "        if d == newData[\"Driver ID\"].iloc[j]:\n",
    "            date = newData[\"Time the driver took to deliver the order\"].iloc[i]\n",
    "            time = round((abs( ((date.days) * 24 * 60 * 60) + (date.seconds)))/60)\n",
    "            totalTime = totalTime + time\n",
    "    totalTime = round((totalTime/60),2)\n",
    "    TimeForDrivers.append(totalTime)\n",
    "    totalTime=0"
   ]
  },
  {
   "cell_type": "code",
   "execution_count": 111,
   "metadata": {},
   "outputs": [
    {
     "name": "stdout",
     "output_type": "stream",
     "text": [
      "maximum hours spent: 138.32\n",
      "minimum hours spent: 1\n"
     ]
    }
   ],
   "source": [
    "MaxNum_hours_index = TimeForDrivers.index(max(TimeForDrivers))\n",
    "MinNum_hours_index = TimeForDrivers.index(min(TimeForDrivers))\n",
    "\n",
    "print(\"maximum hours spent:\", max(TimeForDrivers)  )\n",
    "print(\"minimum hours spent:\", min(Driver_productivty)  )"
   ]
  },
  {
   "cell_type": "code",
   "execution_count": 112,
   "metadata": {},
   "outputs": [
    {
     "data": {
      "image/png": "[encoded data removed]",
      "text/plain": [
       "<Figure size 640x480 with 1 Axes>"
      ]
     },
     "metadata": {},
     "output_type": "display_data"
    }
   ],
   "source": [
    "fig, ax = plt.subplots()\n",
    "ax.scatter(drivers, TimeForDrivers)\n",
    "ax.set_xlabel(\"Driver ID\")\n",
    "ax.set_ylabel(\"hours\")\n",
    "ax.set_title(\"hours spent on delivering through the month\")\n",
    "plt.show()"
   ]
  },
  {
   "cell_type": "markdown",
   "metadata": {},
   "source": [
    "##### Average time needed to deliver the order for each driver"
   ]
  },
  {
   "cell_type": "code",
   "execution_count": 113,
   "metadata": {},
   "outputs": [],
   "source": [
    "c = 0\n",
    "cumilativeTime = 0\n",
    "avgTime_toDelivery = []\n",
    "for i in range(len(drivers)):\n",
    "    for j in range(len(newData[\"Time the driver took to deliver the order\"])):\n",
    "        d = drivers[i]\n",
    "        if d == newData[\"Driver ID\"].iloc[j]:\n",
    "            date = newData[\"Time the driver took to deliver the order\"].iloc[i]\n",
    "            time = round((abs( ((date.days) * 24 * 60 * 60) + (date.seconds)))/60)\n",
    "            cumilativeTime += time\n",
    "            c+=1\n",
    "    avgTime_toDelivery.append(round(cumilativeTime/c))\n",
    "    cumilativeTime = 0\n",
    "    c = 0  "
   ]
  },
  {
   "cell_type": "code",
   "execution_count": 114,
   "metadata": {},
   "outputs": [
    {
     "data": {
      "image/png": "[encoded data removed]",
      "text/plain": [
       "<Figure size 640x480 with 1 Axes>"
      ]
     },
     "metadata": {},
     "output_type": "display_data"
    }
   ],
   "source": [
    "fig, ax = plt.subplots()\n",
    "ax.scatter(drivers, avgTime_toDelivery)\n",
    "ax.set_xlabel(\"Driver ID\")\n",
    "ax.set_ylabel(\"minutes\")\n",
    "ax.set_title(\"average time to deliver the order(Min)\")\n",
    "plt.show()"
   ]
  },
  {
   "cell_type": "markdown",
   "metadata": {},
   "source": [
    "##### Average time needed to get to the restaurant"
   ]
  },
  {
   "cell_type": "code",
   "execution_count": 115,
   "metadata": {},
   "outputs": [],
   "source": [
    "c2 = 0\n",
    "cumilativeTime_toRest = 0\n",
    "avgTime_toRest = []\n",
    "for i in range(len(drivers)):\n",
    "    for j in range(len(newData[\"Time the driver took to get to the res\"])):\n",
    "        d = drivers[i]\n",
    "        if d == newData[\"Driver ID\"].iloc[j]:\n",
    "            date2 = newData[\"Time the driver took to get to the res\"].iloc[i]\n",
    "            time2 = round((abs( ((date2.days) * 24 * 60 * 60) + (date2.seconds)))/60)\n",
    "            cumilativeTime_toRest += time2\n",
    "            c2+=1\n",
    "    avgTime_toRest.append(round(cumilativeTime_toRest/c2))\n",
    "    cumilativeTime_toRest = 0\n",
    "    c2 = 0  "
   ]
  },
  {
   "cell_type": "code",
   "execution_count": 116,
   "metadata": {},
   "outputs": [
    {
     "data": {
      "image/png": "[encoded data removed]",
      "text/plain": [
       "<Figure size 640x480 with 1 Axes>"
      ]
     },
     "metadata": {},
     "output_type": "display_data"
    }
   ],
   "source": [
    "fig, ax = plt.subplots()\n",
    "ax.scatter(drivers, avgTime_toRest)\n",
    "ax.set_xlabel(\"Driver ID\")\n",
    "ax.set_ylabel(\"minutes\")\n",
    "ax.set_title(\"average time to get to the restaurant(Min)\")\n",
    "plt.show()"
   ]
  },
  {
   "cell_type": "code",
   "execution_count": 117,
   "metadata": {},
   "outputs": [
    {
     "data": {
      "text/html": [
       "<div>\n",
       "<style scoped>\n",
       "    .dataframe tbody tr th:only-of-type {\n",
       "        vertical-align: middle;\n",
       "    }\n",
       "\n",
       "    .dataframe tbody tr th {\n",
       "        vertical-align: top;\n",
       "    }\n",
       "\n",
       "    .dataframe thead th {\n",
       "        text-align: right;\n",
       "    }\n",
       "</style>\n",
       "<table border=\"1\" class=\"dataframe\">\n",
       "  <thead>\n",
       "    <tr style=\"text-align: right;\">\n",
       "      <th></th>\n",
       "      <th>Driver ID</th>\n",
       "      <th>Driver productivity</th>\n",
       "      <th>Time driver spent on delivery(Hours)</th>\n",
       "      <th>Average time driver need to deliver the order(Minutes)</th>\n",
       "      <th>Average time driver need to go to the Restaurant(Minutes)</th>\n",
       "    </tr>\n",
       "  </thead>\n",
       "  <tbody>\n",
       "    <tr>\n",
       "      <th>248</th>\n",
       "      <td>248</td>\n",
       "      <td>240</td>\n",
       "      <td>108.00</td>\n",
       "      <td>27</td>\n",
       "      <td>8</td>\n",
       "    </tr>\n",
       "    <tr>\n",
       "      <th>267</th>\n",
       "      <td>267</td>\n",
       "      <td>212</td>\n",
       "      <td>113.07</td>\n",
       "      <td>32</td>\n",
       "      <td>28</td>\n",
       "    </tr>\n",
       "    <tr>\n",
       "      <th>195</th>\n",
       "      <td>195</td>\n",
       "      <td>205</td>\n",
       "      <td>37.58</td>\n",
       "      <td>11</td>\n",
       "      <td>7</td>\n",
       "    </tr>\n",
       "    <tr>\n",
       "      <th>216</th>\n",
       "      <td>216</td>\n",
       "      <td>204</td>\n",
       "      <td>85.00</td>\n",
       "      <td>25</td>\n",
       "      <td>5</td>\n",
       "    </tr>\n",
       "    <tr>\n",
       "      <th>259</th>\n",
       "      <td>259</td>\n",
       "      <td>193</td>\n",
       "      <td>138.32</td>\n",
       "      <td>43</td>\n",
       "      <td>5</td>\n",
       "    </tr>\n",
       "    <tr>\n",
       "      <th>...</th>\n",
       "      <td>...</td>\n",
       "      <td>...</td>\n",
       "      <td>...</td>\n",
       "      <td>...</td>\n",
       "      <td>...</td>\n",
       "    </tr>\n",
       "    <tr>\n",
       "      <th>435</th>\n",
       "      <td>435</td>\n",
       "      <td>2</td>\n",
       "      <td>0.67</td>\n",
       "      <td>20</td>\n",
       "      <td>10</td>\n",
       "    </tr>\n",
       "    <tr>\n",
       "      <th>94</th>\n",
       "      <td>94</td>\n",
       "      <td>2</td>\n",
       "      <td>0.33</td>\n",
       "      <td>10</td>\n",
       "      <td>15</td>\n",
       "    </tr>\n",
       "    <tr>\n",
       "      <th>236</th>\n",
       "      <td>236</td>\n",
       "      <td>1</td>\n",
       "      <td>0.23</td>\n",
       "      <td>14</td>\n",
       "      <td>40</td>\n",
       "    </tr>\n",
       "    <tr>\n",
       "      <th>432</th>\n",
       "      <td>432</td>\n",
       "      <td>1</td>\n",
       "      <td>0.25</td>\n",
       "      <td>15</td>\n",
       "      <td>23</td>\n",
       "    </tr>\n",
       "    <tr>\n",
       "      <th>414</th>\n",
       "      <td>414</td>\n",
       "      <td>1</td>\n",
       "      <td>0.72</td>\n",
       "      <td>43</td>\n",
       "      <td>19</td>\n",
       "    </tr>\n",
       "  </tbody>\n",
       "</table>\n",
       "<p>291 rows × 5 columns</p>\n",
       "</div>"
      ],
      "text/plain": [
       "     Driver ID  Driver productivity  Time driver spent on delivery(Hours)  \\\n",
       "248        248                  240                                108.00   \n",
       "267        267                  212                                113.07   \n",
       "195        195                  205                                 37.58   \n",
       "216        216                  204                                 85.00   \n",
       "259        259                  193                                138.32   \n",
       "..         ...                  ...                                   ...   \n",
       "435        435                    2                                  0.67   \n",
       "94          94                    2                                  0.33   \n",
       "236        236                    1                                  0.23   \n",
       "432        432                    1                                  0.25   \n",
       "414        414                    1                                  0.72   \n",
       "\n",
       "     Average time driver need to deliver the order(Minutes)  \\\n",
       "248                                                 27        \n",
       "267                                                 32        \n",
       "195                                                 11        \n",
       "216                                                 25        \n",
       "259                                                 43        \n",
       "..                                                 ...        \n",
       "435                                                 20        \n",
       "94                                                  10        \n",
       "236                                                 14        \n",
       "432                                                 15        \n",
       "414                                                 43        \n",
       "\n",
       "     Average time driver need to go to the Restaurant(Minutes)  \n",
       "248                                                  8          \n",
       "267                                                 28          \n",
       "195                                                  7          \n",
       "216                                                  5          \n",
       "259                                                  5          \n",
       "..                                                 ...          \n",
       "435                                                 10          \n",
       "94                                                  15          \n",
       "236                                                 40          \n",
       "432                                                 23          \n",
       "414                                                 19          \n",
       "\n",
       "[291 rows x 5 columns]"
      ]
     },
     "execution_count": 117,
     "metadata": {},
     "output_type": "execute_result"
    }
   ],
   "source": [
    "Drivers_Data = {\n",
    "    \"Driver ID\" : drivers,\n",
    "    \"Driver productivity\" : Driver_productivty,\n",
    "    \"Time driver spent on delivery(Hours)\": TimeForDrivers,\n",
    "    \"Average time driver need to deliver the order(Minutes)\": avgTime_toDelivery,\n",
    "    \"Average time driver need to go to the Restaurant(Minutes)\": avgTime_toRest\n",
    "} \n",
    "\n",
    "Drivers_Data = pd.DataFrame(Drivers_Data)\n",
    "Drivers_Data\n"
   ]
  },
  {
   "cell_type": "code",
   "execution_count": 118,
   "metadata": {},
   "outputs": [],
   "source": [
    "Drivers_Data.to_excel(\"driversData.xlsx\",sheet_name=\"drivers analysis\")"
   ]
  },
  {
   "cell_type": "markdown",
   "metadata": {},
   "source": [
    "## Restaurants Analysis"
   ]
  },
  {
   "cell_type": "markdown",
   "metadata": {},
   "source": [
    "##### Number of orders each restaurant made through the month"
   ]
  },
  {
   "cell_type": "code",
   "execution_count": 119,
   "metadata": {},
   "outputs": [
    {
     "name": "stdout",
     "output_type": "stream",
     "text": [
      "number of restaurant available:  306\n"
     ]
    }
   ],
   "source": [
    "numOf_orders = newData[\"Restaurant ID\"].value_counts()\n",
    "restaurants = numOf_orders.index\n",
    "print(\"number of restaurant available: \", len(restaurants))"
   ]
  },
  {
   "cell_type": "code",
   "execution_count": 120,
   "metadata": {},
   "outputs": [
    {
     "name": "stdout",
     "output_type": "stream",
     "text": [
      "maximum number of orders through the month: 631  Restaurant ID: 8\n",
      "minimum number of orders through the month: 1  Restaurant ID: 390\n"
     ]
    }
   ],
   "source": [
    "print(\"maximum number of orders through the month:\", max(numOf_orders) , \" Restaurant ID:\", numOf_orders.idxmax() )\n",
    "print(\"minimum number of orders through the month:\", min(numOf_orders) , \" Restaurant ID:\", numOf_orders.idxmin() )"
   ]
  },
  {
   "cell_type": "code",
   "execution_count": 121,
   "metadata": {},
   "outputs": [
    {
     "data": {
      "image/png": "[encoded data removed]",
      "text/plain": [
       "<Figure size 640x480 with 1 Axes>"
      ]
     },
     "metadata": {},
     "output_type": "display_data"
    }
   ],
   "source": [
    "fig, ax = plt.subplots()\n",
    "ax.scatter(restaurants, numOf_orders)\n",
    "ax.set_xlabel(\"Restaurant ID\")\n",
    "ax.set_ylabel(\"Number of orders\")\n",
    "ax.set_title(\"Number of orders for each restaurant\")\n",
    "plt.show()"
   ]
  },
  {
   "cell_type": "markdown",
   "metadata": {},
   "source": [
    "##### average time each restaurant need to recieve an order"
   ]
  },
  {
   "cell_type": "code",
   "execution_count": 122,
   "metadata": {},
   "outputs": [],
   "source": [
    "z = 0 \n",
    "tTotal = 0\n",
    "avgTime_toRecieve_order = []\n",
    "for i in range(len(restaurants)):\n",
    "    for j in range(len(newData[\"Time the res took to recieve the order\"])):\n",
    "        if restaurants[i] == newData[\"Restaurant ID\"].iloc[j]:\n",
    "            t = newData[\"Time the res took to recieve the order\"].iloc[j]\n",
    "            t = round((abs( ((t.days) * 24 * 60 * 60) + (t.seconds)))/60)\n",
    "            tTotal += t\n",
    "            z+=1\n",
    "    avgTime_toRecieve_order.append(round(tTotal/z))\n",
    "    tTotal = 0"
   ]
  },
  {
   "cell_type": "code",
   "execution_count": 123,
   "metadata": {},
   "outputs": [
    {
     "name": "stdout",
     "output_type": "stream",
     "text": [
      "maximum time to recieve the order: 96\n",
      "minimum  time to recieve the order: 0\n"
     ]
    }
   ],
   "source": [
    "MaxNum_time = avgTime_toRecieve_order.index(max(avgTime_toRecieve_order))\n",
    "MinNum_time = avgTime_toRecieve_order.index(min(avgTime_toRecieve_order))\n",
    "\n",
    "print(\"maximum time to recieve the order:\", max(avgTime_toRecieve_order) )\n",
    "print(\"minimum  time to recieve the order:\", min(avgTime_toRecieve_order)  )"
   ]
  },
  {
   "cell_type": "code",
   "execution_count": 124,
   "metadata": {},
   "outputs": [
    {
     "data": {
      "image/png": "[encoded data removed]",
      "text/plain": [
       "<Figure size 640x480 with 1 Axes>"
      ]
     },
     "metadata": {},
     "output_type": "display_data"
    }
   ],
   "source": [
    "fig, ax = plt.subplots()\n",
    "ax.scatter(restaurants, avgTime_toRecieve_order)\n",
    "ax.set_xlabel(\"Restaurant ID\")\n",
    "ax.set_ylabel(\"minutes\")\n",
    "ax.set_title(\"Average time restaurant takes to receive an order\")\n",
    "plt.show()"
   ]
  },
  {
   "cell_type": "markdown",
   "metadata": {},
   "source": [
    "##### Total profit for each restaurant from deliveries"
   ]
  },
  {
   "cell_type": "code",
   "execution_count": 125,
   "metadata": {},
   "outputs": [],
   "source": [
    "cumulative_profit = 0\n",
    "total_profits = []\n",
    "for i in range(len(restaurants)):\n",
    "    for j in range(len(newData[\"Order total\"])):\n",
    "        if restaurants[i] == newData[\"Restaurant ID\"].iloc[j]:\n",
    "            cumulative_profit += newData[\"Order total\"].iloc[j] - (newData[\"Amount of discount\"].iloc[j] + newData[\"Refunded amount\"].iloc[j])\n",
    "    total_profits.append(cumulative_profit)\n",
    "    cumulative_profit = 0"
   ]
  },
  {
   "cell_type": "code",
   "execution_count": 126,
   "metadata": {},
   "outputs": [
    {
     "data": {
      "text/html": [
       "<div>\n",
       "<style scoped>\n",
       "    .dataframe tbody tr th:only-of-type {\n",
       "        vertical-align: middle;\n",
       "    }\n",
       "\n",
       "    .dataframe tbody tr th {\n",
       "        vertical-align: top;\n",
       "    }\n",
       "\n",
       "    .dataframe thead th {\n",
       "        text-align: right;\n",
       "    }\n",
       "</style>\n",
       "<table border=\"1\" class=\"dataframe\">\n",
       "  <thead>\n",
       "    <tr style=\"text-align: right;\">\n",
       "      <th></th>\n",
       "      <th>restaurant ID</th>\n",
       "      <th>number of orders</th>\n",
       "      <th>Average time restaurant need to recieve an order</th>\n",
       "      <th>total profit from deliveries</th>\n",
       "    </tr>\n",
       "  </thead>\n",
       "  <tbody>\n",
       "    <tr>\n",
       "      <th>8</th>\n",
       "      <td>8</td>\n",
       "      <td>631</td>\n",
       "      <td>96</td>\n",
       "      <td>32849.65</td>\n",
       "    </tr>\n",
       "    <tr>\n",
       "      <th>9</th>\n",
       "      <td>9</td>\n",
       "      <td>572</td>\n",
       "      <td>28</td>\n",
       "      <td>30905.26</td>\n",
       "    </tr>\n",
       "    <tr>\n",
       "      <th>20</th>\n",
       "      <td>20</td>\n",
       "      <td>569</td>\n",
       "      <td>11</td>\n",
       "      <td>25226.69</td>\n",
       "    </tr>\n",
       "    <tr>\n",
       "      <th>107</th>\n",
       "      <td>107</td>\n",
       "      <td>406</td>\n",
       "      <td>4</td>\n",
       "      <td>20953.91</td>\n",
       "    </tr>\n",
       "    <tr>\n",
       "      <th>63</th>\n",
       "      <td>63</td>\n",
       "      <td>354</td>\n",
       "      <td>5</td>\n",
       "      <td>25359.27</td>\n",
       "    </tr>\n",
       "    <tr>\n",
       "      <th>...</th>\n",
       "      <td>...</td>\n",
       "      <td>...</td>\n",
       "      <td>...</td>\n",
       "      <td>...</td>\n",
       "    </tr>\n",
       "    <tr>\n",
       "      <th>333</th>\n",
       "      <td>333</td>\n",
       "      <td>1</td>\n",
       "      <td>0</td>\n",
       "      <td>34.64</td>\n",
       "    </tr>\n",
       "    <tr>\n",
       "      <th>177</th>\n",
       "      <td>177</td>\n",
       "      <td>1</td>\n",
       "      <td>0</td>\n",
       "      <td>34.76</td>\n",
       "    </tr>\n",
       "    <tr>\n",
       "      <th>358</th>\n",
       "      <td>358</td>\n",
       "      <td>1</td>\n",
       "      <td>0</td>\n",
       "      <td>44.97</td>\n",
       "    </tr>\n",
       "    <tr>\n",
       "      <th>307</th>\n",
       "      <td>307</td>\n",
       "      <td>1</td>\n",
       "      <td>0</td>\n",
       "      <td>61.55</td>\n",
       "    </tr>\n",
       "    <tr>\n",
       "      <th>393</th>\n",
       "      <td>393</td>\n",
       "      <td>1</td>\n",
       "      <td>0</td>\n",
       "      <td>65.20</td>\n",
       "    </tr>\n",
       "  </tbody>\n",
       "</table>\n",
       "<p>306 rows × 4 columns</p>\n",
       "</div>"
      ],
      "text/plain": [
       "     restaurant ID  number of orders  \\\n",
       "8                8               631   \n",
       "9                9               572   \n",
       "20              20               569   \n",
       "107            107               406   \n",
       "63              63               354   \n",
       "..             ...               ...   \n",
       "333            333                 1   \n",
       "177            177                 1   \n",
       "358            358                 1   \n",
       "307            307                 1   \n",
       "393            393                 1   \n",
       "\n",
       "     Average time restaurant need to recieve an order  \\\n",
       "8                                                  96   \n",
       "9                                                  28   \n",
       "20                                                 11   \n",
       "107                                                 4   \n",
       "63                                                  5   \n",
       "..                                                ...   \n",
       "333                                                 0   \n",
       "177                                                 0   \n",
       "358                                                 0   \n",
       "307                                                 0   \n",
       "393                                                 0   \n",
       "\n",
       "     total profit from deliveries  \n",
       "8                        32849.65  \n",
       "9                        30905.26  \n",
       "20                       25226.69  \n",
       "107                      20953.91  \n",
       "63                       25359.27  \n",
       "..                            ...  \n",
       "333                         34.64  \n",
       "177                         34.76  \n",
       "358                         44.97  \n",
       "307                         61.55  \n",
       "393                         65.20  \n",
       "\n",
       "[306 rows x 4 columns]"
      ]
     },
     "execution_count": 126,
     "metadata": {},
     "output_type": "execute_result"
    }
   ],
   "source": [
    "restarurant_Data = {\n",
    "    \"restaurant ID\" : restaurants,\n",
    "    \"number of orders\" : numOf_orders,\n",
    "    \"Average time restaurant need to recieve an order\": avgTime_toRecieve_order,\n",
    "    \"total profit from deliveries\": total_profits\n",
    "}\n",
    "\n",
    "restarurant_Data = pd.DataFrame(restarurant_Data)\n",
    "restarurant_Data\n"
   ]
  },
  {
   "cell_type": "code",
   "execution_count": 127,
   "metadata": {},
   "outputs": [
    {
     "data": {
      "image/png": "[encoded data removed]",
      "text/plain": [
       "<Figure size 640x480 with 1 Axes>"
      ]
     },
     "metadata": {},
     "output_type": "display_data"
    }
   ],
   "source": [
    "fig, ax = plt.subplots()\n",
    "ax.scatter(restaurants, total_profits)\n",
    "ax.set_xlabel(\"Restaurant ID\")\n",
    "ax.set_ylabel(\"profit\")\n",
    "ax.set_title(\"total profit for each restaurant\")\n",
    "plt.show()"
   ]
  },
  {
   "cell_type": "code",
   "execution_count": 128,
   "metadata": {},
   "outputs": [],
   "source": [
    "restarurant_Data.to_excel(\"RestaurantData.xlsx\",sheet_name=\"restaurant analysis\")"
   ]
  },
  {
   "cell_type": "markdown",
   "metadata": {},
   "source": [
    "## Regions and number of orders"
   ]
  },
  {
   "cell_type": "code",
   "execution_count": 129,
   "metadata": {},
   "outputs": [
    {
     "data": {
      "image/png": "[encoded data removed]",
      "text/plain": [
       "<Figure size 1000x500 with 1 Axes>"
      ]
     },
     "metadata": {},
     "output_type": "display_data"
    }
   ],
   "source": [
    "regions = newData[\"Delivery Region\"].unique()\n",
    "\n",
    "l = []\n",
    "\n",
    "gizzaNum_Orders =newData[newData[\"Delivery Region\"]==0].count()[0]\n",
    "maadiNum_Orders =newData[newData[\"Delivery Region\"]==1].count()[0]\n",
    "nasrCity_Orders =newData[newData[\"Delivery Region\"]==2].count()[0]\n",
    "None_Orders = newData[newData[\"Delivery Region\"]==3].count()[0]\n",
    "\n",
    "l.append(gizzaNum_Orders)\n",
    "l.append(maadiNum_Orders)\n",
    "l.append(nasrCity_Orders)\n",
    "l.append(None_Orders)\n",
    "\n",
    "fig = plt.figure(figsize = (10, 5))\n",
    "plt.bar(regions, l, color ='maroon',width = 0.3)\n",
    "plt.xlabel(\"region\")\n",
    "plt.ylabel(\"number of orders\")\n",
    "plt.title(\"number of orders in each region\")\n",
    "\n",
    "plt.show()"
   ]
  },
  {
   "cell_type": "code",
   "execution_count": 130,
   "metadata": {},
   "outputs": [
    {
     "name": "stderr",
     "output_type": "stream",
     "text": [
      "C:\\Users\\yasme\\AppData\\Local\\Temp\\ipykernel_8448\\1106540211.py:3: SettingWithCopyWarning: \n",
      "A value is trying to be set on a copy of a slice from a DataFrame.\n",
      "Try using .loc[row_indexer,col_indexer] = value instead\n",
      "\n",
      "See the caveats in the documentation: https://pandas.pydata.org/pandas-docs/stable/user_guide/indexing.html#returning-a-view-versus-a-copy\n",
      "  newData[\"Customer placed order datetime\"] = newData[\"Customer placed order datetime\"].astype(str)\n",
      "C:\\Users\\yasme\\AppData\\Local\\Temp\\ipykernel_8448\\1106540211.py:4: SettingWithCopyWarning: \n",
      "A value is trying to be set on a copy of a slice from a DataFrame.\n",
      "Try using .loc[row_indexer,col_indexer] = value instead\n",
      "\n",
      "See the caveats in the documentation: https://pandas.pydata.org/pandas-docs/stable/user_guide/indexing.html#returning-a-view-versus-a-copy\n",
      "  newData[\"Placed order with restaurant datetime\"] = newData[\"Placed order with restaurant datetime\"].astype(str)\n",
      "C:\\Users\\yasme\\AppData\\Local\\Temp\\ipykernel_8448\\1106540211.py:5: SettingWithCopyWarning: \n",
      "A value is trying to be set on a copy of a slice from a DataFrame.\n",
      "Try using .loc[row_indexer,col_indexer] = value instead\n",
      "\n",
      "See the caveats in the documentation: https://pandas.pydata.org/pandas-docs/stable/user_guide/indexing.html#returning-a-view-versus-a-copy\n",
      "  newData[\"Driver at restaurant datetime\"] = newData[\"Driver at restaurant datetime\"].astype(str)\n",
      "C:\\Users\\yasme\\AppData\\Local\\Temp\\ipykernel_8448\\1106540211.py:6: SettingWithCopyWarning: \n",
      "A value is trying to be set on a copy of a slice from a DataFrame.\n",
      "Try using .loc[row_indexer,col_indexer] = value instead\n",
      "\n",
      "See the caveats in the documentation: https://pandas.pydata.org/pandas-docs/stable/user_guide/indexing.html#returning-a-view-versus-a-copy\n",
      "  newData[\"Delivered to consumer datetime\"] = newData[\"Delivered to consumer datetime\"].astype(str)\n",
      "C:\\Users\\yasme\\AppData\\Local\\Temp\\ipykernel_8448\\1106540211.py:7: SettingWithCopyWarning: \n",
      "A value is trying to be set on a copy of a slice from a DataFrame.\n",
      "Try using .loc[row_indexer,col_indexer] = value instead\n",
      "\n",
      "See the caveats in the documentation: https://pandas.pydata.org/pandas-docs/stable/user_guide/indexing.html#returning-a-view-versus-a-copy\n",
      "  newData[\"Time the res took to recieve the order\"] = newData[\"Time the res took to recieve the order\"].astype(str)\n",
      "C:\\Users\\yasme\\AppData\\Local\\Temp\\ipykernel_8448\\1106540211.py:8: SettingWithCopyWarning: \n",
      "A value is trying to be set on a copy of a slice from a DataFrame.\n",
      "Try using .loc[row_indexer,col_indexer] = value instead\n",
      "\n",
      "See the caveats in the documentation: https://pandas.pydata.org/pandas-docs/stable/user_guide/indexing.html#returning-a-view-versus-a-copy\n",
      "  newData[\"Time the driver took to deliver the order\"] = newData[\"Time the driver took to deliver the order\"].astype(str)\n",
      "C:\\Users\\yasme\\AppData\\Local\\Temp\\ipykernel_8448\\1106540211.py:9: SettingWithCopyWarning: \n",
      "A value is trying to be set on a copy of a slice from a DataFrame.\n",
      "Try using .loc[row_indexer,col_indexer] = value instead\n",
      "\n",
      "See the caveats in the documentation: https://pandas.pydata.org/pandas-docs/stable/user_guide/indexing.html#returning-a-view-versus-a-copy\n",
      "  newData[\"Time the driver took to get to the res\"] = newData[\"Time the driver took to get to the res\"].astype(str)\n"
     ]
    }
   ],
   "source": [
    "## change the time columns to string again to save it in csv file\n",
    "\n",
    "newData[\"Customer placed order datetime\"] = newData[\"Customer placed order datetime\"].astype(str)\n",
    "newData[\"Placed order with restaurant datetime\"] = newData[\"Placed order with restaurant datetime\"].astype(str)\n",
    "newData[\"Driver at restaurant datetime\"] = newData[\"Driver at restaurant datetime\"].astype(str)\n",
    "newData[\"Delivered to consumer datetime\"] = newData[\"Delivered to consumer datetime\"].astype(str)\n",
    "newData[\"Time the res took to recieve the order\"] = newData[\"Time the res took to recieve the order\"].astype(str)\n",
    "newData[\"Time the driver took to deliver the order\"] = newData[\"Time the driver took to deliver the order\"].astype(str)\n",
    "newData[\"Time the driver took to get to the res\"] = newData[\"Time the driver took to get to the res\"].astype(str)\n",
    "\n",
    "newData.to_excel(\"newData.xlsx\",sheet_name=\"Deliveries analysis\")"
   ]
  }
 ],
 "metadata": {
  "kernelspec": {
   "display_name": "Python 3",
   "language": "python",
   "name": "python3"
  },
  "language_info": {
   "codemirror_mode": {
    "name": "ipython",
    "version": 3
   },
   "file_extension": ".py",
   "mimetype": "text/x-python",
   "name": "python",
   "nbconvert_exporter": "python",
   "pygments_lexer": "ipython3",
   "version": "3.11.2"
  },
  "orig_nbformat": 4
 },
 "nbformat": 4,
 "nbformat_minor": 2
}
